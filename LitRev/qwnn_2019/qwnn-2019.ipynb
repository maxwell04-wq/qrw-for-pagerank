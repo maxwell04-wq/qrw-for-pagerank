{
 "cells": [
  {
   "cell_type": "markdown",
   "id": "2f5433ab",
   "metadata": {},
   "source": [
    "# Quantum walk neural networks with feature dependent coins (Dernback, 2019)\n",
    "\n",
    "Implementation of [this paper](https://doi.org/10.1007/s41109-019-0188-2)"
   ]
  },
  {
   "cell_type": "code",
   "execution_count": 2,
   "id": "c92df376",
   "metadata": {},
   "outputs": [],
   "source": [
    "import pennylane as qml\n",
    "import pennylane.numpy as np\n",
    "import matplotlib.pyplot as plt"
   ]
  },
  {
   "cell_type": "code",
   "execution_count": 3,
   "id": "ed530cbd",
   "metadata": {},
   "outputs": [
    {
     "data": {
      "text/plain": [
       "'0.41.1'"
      ]
     },
     "execution_count": 3,
     "metadata": {},
     "output_type": "execute_result"
    }
   ],
   "source": [
    "np.set_printoptions(threshold=np.inf)\n",
    "np.set_printoptions(precision=3, suppress=True)\n",
    "qml.__version__"
   ]
  },
  {
   "cell_type": "code",
   "execution_count": null,
   "id": "adf55b14",
   "metadata": {},
   "outputs": [],
   "source": []
  }
 ],
 "metadata": {
  "kernelspec": {
   "display_name": ".qrw",
   "language": "python",
   "name": "python3"
  },
  "language_info": {
   "codemirror_mode": {
    "name": "ipython",
    "version": 3
   },
   "file_extension": ".py",
   "mimetype": "text/x-python",
   "name": "python",
   "nbconvert_exporter": "python",
   "pygments_lexer": "ipython3",
   "version": "3.12.10"
  }
 },
 "nbformat": 4,
 "nbformat_minor": 5
}
