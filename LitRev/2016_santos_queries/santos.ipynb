{
 "cells": [
  {
   "cell_type": "markdown",
   "id": "e1c07d19",
   "metadata": {},
   "source": [
    "# Szegedy’s quantum walk with queries (Santos, 2016)\n",
    "\n",
    "Implementation of the algorithm described in [this paper](https://link.springer.com/article/10.1007/s11128-016-1427-4).\n",
    "\n",
    "## Import libraries"
   ]
  },
  {
   "cell_type": "code",
   "execution_count": 289,
   "id": "ba13b954",
   "metadata": {},
   "outputs": [],
   "source": [
    "import pennylane as qml\n",
    "import pennylane.numpy as np\n",
    "from scipy.linalg import block_diag\n",
    "import matplotlib.pyplot as plt"
   ]
  },
  {
   "cell_type": "code",
   "execution_count": 158,
   "id": "0301d451",
   "metadata": {},
   "outputs": [
    {
     "data": {
      "text/plain": [
       "'0.41.1'"
      ]
     },
     "execution_count": 158,
     "metadata": {},
     "output_type": "execute_result"
    }
   ],
   "source": [
    "np.set_printoptions(threshold=np.inf)\n",
    "np.set_printoptions(precision=3, suppress=True)\n",
    "qml.__version__"
   ]
  },
  {
   "cell_type": "markdown",
   "id": "92802246",
   "metadata": {},
   "source": [
    "## 2 Szegedy's Quatum Walk"
   ]
  },
  {
   "cell_type": "code",
   "execution_count": 354,
   "id": "a94e540a",
   "metadata": {},
   "outputs": [
    {
     "name": "stdout",
     "output_type": "stream",
     "text": [
      "N = 5\n",
      "n = 3\n"
     ]
    }
   ],
   "source": [
    "N = 5 # dimension of the graph\n",
    "n = int(np.ceil(np.log2(N))) # dimension of the associated Hilbert space\n",
    "print(f\"N = {N}\")\n",
    "print(f\"n = {n}\")"
   ]
  },
  {
   "cell_type": "markdown",
   "id": "cb53fa07",
   "metadata": {},
   "source": [
    "### Stochastic matrices\n",
    "\n",
    "![Complete graph with m=5, n=1](complete_graph_m1.PNG \"Complete graph with m=5, n=1\")"
   ]
  },
  {
   "cell_type": "markdown",
   "id": "ad5ac87a",
   "metadata": {},
   "source": [
    "#### $P'$"
   ]
  },
  {
   "cell_type": "code",
   "execution_count": 392,
   "id": "bfc8303a",
   "metadata": {},
   "outputs": [
    {
     "name": "stdout",
     "output_type": "stream",
     "text": [
      "(8, 8)\n"
     ]
    }
   ],
   "source": [
    "m = 5 # marked state\n",
    "absorbing = True # absorbing QRW for marked states\n",
    "# transition matrix\n",
    "P = block_diag(1/(N-1) * (np.ones(N) - np.eye(N)), np.eye(2**n-N))\n",
    "# absorbing RW\n",
    "if (absorbing):\n",
    "    for i in range(N):\n",
    "        P[m-1, i] = 0\n",
    "    P[m-1, m-1] = 1\n",
    "\n",
    "# print(P)\n",
    "print(P.shape)\n",
    "# print(P*P.T)"
   ]
  },
  {
   "cell_type": "markdown",
   "id": "549a1f70",
   "metadata": {},
   "source": [
    "#### $R_A$"
   ]
  },
  {
   "cell_type": "code",
   "execution_count": 393,
   "id": "483988e7",
   "metadata": {},
   "outputs": [
    {
     "name": "stdout",
     "output_type": "stream",
     "text": [
      "(64, 64)\n",
      "Is $R_A$ unitary (left)? True\n",
      "Is $R_A$ unitary (right)? True\n"
     ]
    }
   ],
   "source": [
    "# initial state of the quantum walk\n",
    "RA = np.zeros((2**(2*n), 2**(2*n)))\n",
    "\n",
    "for x in range(2**n):\n",
    "    phi = np.zeros((2**(2*n), 1))\n",
    "    ket_x = np.zeros((2**n, 1))\n",
    "    ket_x[x] = 1\n",
    "    for y in range(2**n):\n",
    "        ket_y = np.zeros((2**n, 1))\n",
    "        ket_y[y] = np.sqrt(P[x][y])\n",
    "        phi += np.kron(ket_x, ket_y) # x⊗y\n",
    "    # print(f\"x={x}\")\n",
    "    # print(np.sum(phi**2)) # norm-square: should be one for a \"valid\" quantum state\n",
    "    # print(phi.T)   \n",
    "    RA += np.dot(phi, phi.T)    \n",
    "RA = 2 * RA - np.eye(2**(2*n))\n",
    "print(RA.shape)\n",
    "# print(RA)\n",
    "# print('\\n')\n",
    "# print(np.dot(RA, RA.T))\n",
    "print(r'Is $R_A$ unitary (left)?', np.all(np.allclose(np.dot(RA, RA.T), np.eye(2**(2*n)))))\n",
    "# print(np.dot(RA.T, RA))\n",
    "print(r'Is $R_A$ unitary (right)?', np.all(np.allclose(np.dot(RA.T, RA), np.eye(2**(2*n)))))"
   ]
  },
  {
   "cell_type": "markdown",
   "id": "8441712f",
   "metadata": {},
   "source": [
    "#### $R_B$"
   ]
  },
  {
   "cell_type": "code",
   "execution_count": 394,
   "id": "96e62f13",
   "metadata": {},
   "outputs": [
    {
     "name": "stdout",
     "output_type": "stream",
     "text": [
      "(64, 64)\n",
      "Is RB unitary (left)? True\n",
      "Is RB unitary (right)? True\n"
     ]
    }
   ],
   "source": [
    "RB = np.zeros((2**(2*n), 2**(2*n)))\n",
    "\n",
    "for y in range(2**n):\n",
    "    psi = np.zeros((2**(2*n), 1))\n",
    "    ket_y = np.zeros((2**n, 1))\n",
    "    ket_y[y] = 1\n",
    "    for x in range(2**n):\n",
    "        ket_x = np.zeros((2**n, 1))\n",
    "        ket_x[x] = np.sqrt(P[y][x])\n",
    "        psi += np.kron(ket_x, ket_y) # y⊗x\n",
    "    RB += np.dot(psi, psi.T)    \n",
    "RB = 2 * RB - np.eye(2**(2*n))\n",
    "print(RB.shape)\n",
    "# print(RB)\n",
    "# print(np.dot(RB, RB.T))\n",
    "print('Is RB unitary (left)?', np.all(np.allclose(np.dot(RB, RB.T), np.eye(2**(2*n)))))\n",
    "print('Is RB unitary (right)?', np.all(np.allclose(np.dot(RB.T, RB), np.eye(2**(2*n)))))"
   ]
  },
  {
   "cell_type": "markdown",
   "id": "c4dcac2e",
   "metadata": {},
   "source": [
    "### Searching"
   ]
  },
  {
   "cell_type": "code",
   "execution_count": 395,
   "id": "14cac11c",
   "metadata": {},
   "outputs": [
    {
     "name": "stdout",
     "output_type": "stream",
     "text": [
      "Is the statevector valid? True\n"
     ]
    }
   ],
   "source": [
    "# initial state\n",
    "psi = np.zeros((2**(2*n)))\n",
    "for x in range(N):\n",
    "    ket_x = np.zeros((2**n))\n",
    "    ket_x[x] = 1\n",
    "    for y in range(N):\n",
    "        ket_y = np.zeros((2**n))\n",
    "        ket_y[y] += np.sqrt(P[x][y])\n",
    "        psi += np.kron(ket_x, ket_y)    \n",
    "psi /= np.sqrt(N)\n",
    "# print(psi)\n",
    "print(\"Is the statevector valid?\", qml.math.isclose(qml.math.norm(np.sum(psi**2)), 1))"
   ]
  },
  {
   "cell_type": "code",
   "execution_count": 396,
   "id": "4d67893c",
   "metadata": {},
   "outputs": [],
   "source": [
    "Up = np.dot(RB, RA) # marked walk operator"
   ]
  },
  {
   "cell_type": "markdown",
   "id": "0000dd66",
   "metadata": {},
   "source": [
    "### Quantum circuit"
   ]
  },
  {
   "cell_type": "code",
   "execution_count": 410,
   "id": "fdf46f52",
   "metadata": {},
   "outputs": [
    {
     "name": "stdout",
     "output_type": "stream",
     "text": [
      "Steps\tMax\t\t\tmax_index\tx\ty\tx==m\n",
      "1\t0.24999999999999994\t33\t\t4\t1\tTrue\n",
      "2\t0.12499999999999994\t0\t\t0\t0\tFalse\n",
      "3\t0.20312499999999994\t4\t\t0\t4\tFalse\n",
      "4\t0.20703124999999994\t4\t\t0\t4\tFalse\n",
      "5\t0.24853515624999997\t33\t\t4\t1\tTrue\n",
      "6\t0.1304931640625\t33\t\t4\t1\tTrue\n",
      "7\t0.12499999999999994\t0\t\t0\t0\tFalse\n",
      "8\t0.25129699707031244\t12\t\t1\t4\tFalse\n",
      "9\t0.19909095764160156\t33\t\t4\t1\tTrue\n",
      "10\t0.21080636978149409\t32\t\t4\t0\tTrue\n",
      "11\t0.12499999999999994\t0\t\t0\t0\tFalse\n",
      "12\t0.24690371751785278\t12\t\t1\t4\tFalse\n",
      "13\t0.13592059910297394\t28\t\t3\t4\tFalse\n",
      "14\t0.2524250391870737\t32\t\t4\t0\tTrue\n",
      "15\t0.12499999999999994\t0\t\t0\t0\tFalse\n"
     ]
    }
   ],
   "source": [
    "num_qubits = 2*n\n",
    "# Create a device for simulation\n",
    "dev = qml.device(\"default.qubit\", wires=num_qubits)\n",
    "\n",
    "@qml.qnode(dev)\n",
    "def circuit(steps):\n",
    "    # qml.StatePrep(psi, wires=range(num_qubits))\n",
    "    [qml.Hadamard(i) for i in range(num_qubits)]\n",
    "    # [qml.Hadamard(i) for i in range(N)]\n",
    "    # [qml.Hadamard(i) for i in range(2**n, N)]\n",
    "    for _ in range(steps):\n",
    "        # Apply the unitary matrix\n",
    "        qml.QubitUnitary(Up, wires=range(num_qubits), id=r\"U_p\")\n",
    "    # Measure all qubits\n",
    "    return qml.state()\n",
    "\n",
    "# data arrays\n",
    "m_x = []\n",
    "m_y = []\n",
    "max_data = []\n",
    "\n",
    "# Execute the circuit\n",
    "print(\"Steps\\tMax\\t\\t\\tmax_index\\tx\\ty\\tx==m\")\n",
    "steps = 3*N\n",
    "for k in range(1, steps+1):\n",
    "    state_vector = circuit(k)\n",
    "    # Plot the quantum circuit\n",
    "    # fig, ax = qml.draw_mpl(circuit)(steps)\n",
    "    # ax.set_title(f\"k={steps}\", fontsize=20)\n",
    "    max_prob = np.abs(np.max(state_vector))\n",
    "    max_data.append(max_prob) \n",
    "    max_index = qml.math.argmax(state_vector)\n",
    "    print(f\"{k}\\t{np.abs(np.max(state_vector))}\\t{max_index}\\t\\t{max_index//2**n}\\t{max_index%2**n}\\t{max_index//2**n==m-1}\")\n",
    "    if max_index//2**n==m-1:\n",
    "        m_x.append(k)\n",
    "        m_y.append(max_prob)\n",
    "    # print(state_vector)"
   ]
  },
  {
   "cell_type": "code",
   "execution_count": 417,
   "id": "781efad1",
   "metadata": {},
   "outputs": [
    {
     "data": {
      "image/png": "[encoded data removed]",
      "text/plain": [
       "<Figure size 960x720 with 1 Axes>"
      ]
     },
     "metadata": {},
     "output_type": "display_data"
    }
   ],
   "source": [
    "scale_factor = 1.5\n",
    "default_figsize = plt.rcParams[\"figure.figsize\"]\n",
    "scaled_figsize = (default_figsize[0] * scale_factor, default_figsize[1] * scale_factor)\n",
    "\n",
    "plt.figure(figsize=scaled_figsize)\n",
    "plt.plot(m_x, m_y, \"ro\", label=r\"$p_M$\")\n",
    "plt.plot(range(1, steps+1), max_data, 'g', label=r\"Max\")\n",
    "plt.legend()\n",
    "plt.title(\"Szegedy's quantum walk\", fontsize=15*scale_factor)\n",
    "plt.xlabel(\"Steps\", fontsize=12*scale_factor)\n",
    "plt.ylabel(\"Probability\", fontsize=12*scale_factor)\n",
    "plt.grid()\n",
    "plt.show()"
   ]
  },
  {
   "cell_type": "code",
   "execution_count": 383,
   "id": "c46675f5",
   "metadata": {},
   "outputs": [
    {
     "data": {
      "text/plain": [
       "np.int64(25)"
      ]
     },
     "execution_count": 383,
     "metadata": {},
     "output_type": "execute_result"
    }
   ],
   "source": [
    "qml.math.argmax(state_vector)"
   ]
  },
  {
   "cell_type": "code",
   "execution_count": 399,
   "id": "bfa4f82b",
   "metadata": {},
   "outputs": [
    {
     "data": {
      "text/plain": [
       "5"
      ]
     },
     "execution_count": 399,
     "metadata": {},
     "output_type": "execute_result"
    }
   ],
   "source": [
    "m"
   ]
  },
  {
   "cell_type": "code",
   "execution_count": null,
   "id": "bb63934b",
   "metadata": {},
   "outputs": [],
   "source": []
  }
 ],
 "metadata": {
  "kernelspec": {
   "display_name": ".qrw_pagerank",
   "language": "python",
   "name": "python3"
  },
  "language_info": {
   "codemirror_mode": {
    "name": "ipython",
    "version": 3
   },
   "file_extension": ".py",
   "mimetype": "text/x-python",
   "name": "python",
   "nbconvert_exporter": "python",
   "pygments_lexer": "ipython3",
   "version": "3.12.10"
  }
 },
 "nbformat": 4,
 "nbformat_minor": 5
}
